{
 "cells": [
  {
   "cell_type": "markdown",
   "metadata": {},
   "source": [
    "# TV Script Generation\n",
    "In this project, you'll generate your own [Simpsons](https://en.wikipedia.org/wiki/The_Simpsons) TV scripts using RNNs.  You'll be using part of the [Simpsons dataset](https://www.kaggle.com/wcukierski/the-simpsons-by-the-data) of scripts from 27 seasons.  The Neural Network you'll build will generate a new TV script for a scene at [Moe's Tavern](https://simpsonswiki.com/wiki/Moe's_Tavern).\n",
    "## Get the Data\n",
    "The data is already provided for you.  You'll be using a subset of the original dataset.  It consists of only the scenes in Moe's Tavern.  This doesn't include other versions of the tavern, like \"Moe's Cavern\", \"Flaming Moe's\", \"Uncle Moe's Family Feed-Bag\", etc.."
   ]
  },
  {
   "cell_type": "code",
   "execution_count": 1,
   "metadata": {
    "collapsed": true
   },
   "outputs": [],
   "source": [
    "\"\"\"\n",
    "DON'T MODIFY ANYTHING IN THIS CELL\n",
    "\"\"\"\n",
    "import helper\n",
    "\n",
    "data_dir = './data/simpsons/moes_tavern_lines.txt'\n",
    "text = helper.load_data(data_dir)\n",
    "# Ignore notice, since we don't use it for analysing the data\n",
    "text = text[81:]"
   ]
  },
  {
   "cell_type": "markdown",
   "metadata": {},
   "source": [
    "## Explore the Data\n",
    "Play around with `view_sentence_range` to view different parts of the data."
   ]
  },
  {
   "cell_type": "code",
   "execution_count": 2,
   "metadata": {},
   "outputs": [
    {
     "name": "stdout",
     "output_type": "stream",
     "text": [
      "Dataset Stats\n",
      "Roughly the number of unique words: 11492\n",
      "Number of scenes: 262\n",
      "Average number of sentences in each scene: 15.251908396946565\n",
      "Number of lines: 4258\n",
      "Average number of words in each line: 11.50164396430249\n",
      "\n",
      "The sentences 0 to 10:\n",
      "\n",
      "Moe_Szyslak: (INTO PHONE) Moe's Tavern. Where the elite meet to drink.\n",
      "Bart_Simpson: Eh, yeah, hello, is Mike there? Last name, Rotch.\n",
      "Moe_Szyslak: (INTO PHONE) Hold on, I'll check. (TO BARFLIES) Mike Rotch. Mike Rotch. Hey, has anybody seen Mike Rotch, lately?\n",
      "Moe_Szyslak: (INTO PHONE) Listen you little puke. One of these days I'm gonna catch you, and I'm gonna carve my name on your back with an ice pick.\n",
      "Moe_Szyslak: What's the matter Homer? You're not your normal effervescent self.\n",
      "Homer_Simpson: I got my problems, Moe. Give me another one.\n",
      "Moe_Szyslak: Homer, hey, you should not drink to forget your problems.\n",
      "Barney_Gumble: Yeah, you should only drink to enhance your social skills.\n",
      "\n"
     ]
    }
   ],
   "source": [
    "view_sentence_range = (0, 10)\n",
    "\n",
    "\"\"\"\n",
    "DON'T MODIFY ANYTHING IN THIS CELL\n",
    "\"\"\"\n",
    "import numpy as np\n",
    "\n",
    "print('Dataset Stats')\n",
    "print('Roughly the number of unique words: {}'.format(len({word: None for word in text.split()})))\n",
    "scenes = text.split('\\n\\n')\n",
    "print('Number of scenes: {}'.format(len(scenes)))\n",
    "sentence_count_scene = [scene.count('\\n') for scene in scenes]\n",
    "print('Average number of sentences in each scene: {}'.format(np.average(sentence_count_scene)))\n",
    "\n",
    "sentences = [sentence for scene in scenes for sentence in scene.split('\\n')]\n",
    "print('Number of lines: {}'.format(len(sentences)))\n",
    "word_count_sentence = [len(sentence.split()) for sentence in sentences]\n",
    "print('Average number of words in each line: {}'.format(np.average(word_count_sentence)))\n",
    "\n",
    "print()\n",
    "print('The sentences {} to {}:'.format(*view_sentence_range))\n",
    "print('\\n'.join(text.split('\\n')[view_sentence_range[0]:view_sentence_range[1]]))"
   ]
  },
  {
   "cell_type": "markdown",
   "metadata": {},
   "source": [
    "## Implement Preprocessing Functions\n",
    "The first thing to do to any dataset is preprocessing.  Implement the following preprocessing functions below:\n",
    "- Lookup Table\n",
    "- Tokenize Punctuation\n",
    "\n",
    "### Lookup Table\n",
    "To create a word embedding, you first need to transform the words to ids.  In this function, create two dictionaries:\n",
    "- Dictionary to go from the words to an id, we'll call `vocab_to_int`\n",
    "- Dictionary to go from the id to word, we'll call `int_to_vocab`\n",
    "\n",
    "Return these dictionaries in the following tuple `(vocab_to_int, int_to_vocab)`"
   ]
  },
  {
   "cell_type": "code",
   "execution_count": 3,
   "metadata": {},
   "outputs": [
    {
     "name": "stdout",
     "output_type": "stream",
     "text": [
      "Tests Passed\n"
     ]
    }
   ],
   "source": [
    "import numpy as np\n",
    "import problem_unittests as tests\n",
    "from collections import Counter\n",
    "\n",
    "def create_lookup_tables(text):\n",
    "    \"\"\"\n",
    "    Create lookup tables for vocabulary\n",
    "    :param text: The text of tv scripts split into words\n",
    "    :return: A tuple of dicts (vocab_to_int, int_to_vocab)\n",
    "    \"\"\"\n",
    "    # TODO: Implement Function\n",
    "    unique_words = Counter(text).most_common()\n",
    "    vocab_to_int = {}\n",
    "    int_to_vocab = {}\n",
    "    for i, word in enumerate(unique_words, 0):\n",
    "        vocab_to_int[word[0]] = i\n",
    "        int_to_vocab[i] = word[0]\n",
    "    return vocab_to_int, int_to_vocab\n",
    "\n",
    "\n",
    "\"\"\"\n",
    "DON'T MODIFY ANYTHING IN THIS CELL THAT IS BELOW THIS LINE\n",
    "\"\"\"\n",
    "tests.test_create_lookup_tables(create_lookup_tables)"
   ]
  },
  {
   "cell_type": "markdown",
   "metadata": {},
   "source": [
    "### Tokenize Punctuation\n",
    "We'll be splitting the script into a word array using spaces as delimiters.  However, punctuations like periods and exclamation marks make it hard for the neural network to distinguish between the word \"bye\" and \"bye!\".\n",
    "\n",
    "Implement the function `token_lookup` to return a dict that will be used to tokenize symbols like \"!\" into \"||Exclamation_Mark||\".  Create a dictionary for the following symbols where the symbol is the key and value is the token:\n",
    "- Period ( . )\n",
    "- Comma ( , )\n",
    "- Quotation Mark ( \" )\n",
    "- Semicolon ( ; )\n",
    "- Exclamation mark ( ! )\n",
    "- Question mark ( ? )\n",
    "- Left Parentheses ( ( )\n",
    "- Right Parentheses ( ) )\n",
    "- Dash ( -- )\n",
    "- Return ( \\n )\n",
    "\n",
    "This dictionary will be used to token the symbols and add the delimiter (space) around it.  This separates the symbols as it's own word, making it easier for the neural network to predict on the next word. Make sure you don't use a token that could be confused as a word. Instead of using the token \"dash\", try using something like \"||dash||\"."
   ]
  },
  {
   "cell_type": "code",
   "execution_count": 4,
   "metadata": {},
   "outputs": [
    {
     "name": "stdout",
     "output_type": "stream",
     "text": [
      "Tests Passed\n"
     ]
    }
   ],
   "source": [
    "def token_lookup():\n",
    "    \"\"\"\n",
    "    Generate a dict to turn punctuation into a token.\n",
    "    :return: Tokenize dictionary where the key is the punctuation and the value is the token\n",
    "    \"\"\"\n",
    "    # TODO: Implement Function\n",
    "    token_dict = {'.' : '||Period||',\n",
    "                ',' : '||Comma||',\n",
    "                '\"' : '||QuotationMark||',\n",
    "                ';' : '||Semicolon||',\n",
    "                '!' : '||ExclamationMark||',\n",
    "                '?' : '||QuestionMark||',\n",
    "                '(' : '||LeftParentheses||',\n",
    "                ')' : '||RightParenthese||',\n",
    "                '--' : '||Dash||',\n",
    "                '\\n' : '||Return||'}\n",
    "    return token_dict\n",
    "\n",
    "\"\"\"\n",
    "DON'T MODIFY ANYTHING IN THIS CELL THAT IS BELOW THIS LINE\n",
    "\"\"\"\n",
    "tests.test_tokenize(token_lookup)"
   ]
  },
  {
   "cell_type": "markdown",
   "metadata": {},
   "source": [
    "## Preprocess all the data and save it\n",
    "Running the code cell below will preprocess all the data and save it to file."
   ]
  },
  {
   "cell_type": "code",
   "execution_count": 5,
   "metadata": {
    "collapsed": true
   },
   "outputs": [],
   "source": [
    "\"\"\"\n",
    "DON'T MODIFY ANYTHING IN THIS CELL\n",
    "\"\"\"\n",
    "# Preprocess Training, Validation, and Testing Data\n",
    "helper.preprocess_and_save_data(data_dir, token_lookup, create_lookup_tables)"
   ]
  },
  {
   "cell_type": "markdown",
   "metadata": {},
   "source": [
    "# Check Point\n",
    "This is your first checkpoint. If you ever decide to come back to this notebook or have to restart the notebook, you can start from here. The preprocessed data has been saved to disk."
   ]
  },
  {
   "cell_type": "code",
   "execution_count": 1,
   "metadata": {
    "collapsed": true
   },
   "outputs": [],
   "source": [
    "\"\"\"\n",
    "DON'T MODIFY ANYTHING IN THIS CELL\n",
    "\"\"\"\n",
    "import helper\n",
    "import numpy as np\n",
    "import problem_unittests as tests\n",
    "\n",
    "int_text, vocab_to_int, int_to_vocab, token_dict = helper.load_preprocess()"
   ]
  },
  {
   "cell_type": "markdown",
   "metadata": {},
   "source": [
    "## Build the Neural Network\n",
    "You'll build the components necessary to build a RNN by implementing the following functions below:\n",
    "- get_inputs\n",
    "- get_init_cell\n",
    "- get_embed\n",
    "- build_rnn\n",
    "- build_nn\n",
    "- get_batches\n",
    "\n",
    "### Check the Version of TensorFlow and Access to GPU"
   ]
  },
  {
   "cell_type": "code",
   "execution_count": 2,
   "metadata": {},
   "outputs": [
    {
     "name": "stdout",
     "output_type": "stream",
     "text": [
      "TensorFlow Version: 1.2.1\n"
     ]
    },
    {
     "name": "stderr",
     "output_type": "stream",
     "text": [
      "C:\\Users\\Mezz\\Anaconda2\\envs\\dlnd\\lib\\site-packages\\ipykernel_launcher.py:14: UserWarning: No GPU found. Please use a GPU to train your neural network.\n",
      "  \n"
     ]
    }
   ],
   "source": [
    "\"\"\"\n",
    "DON'T MODIFY ANYTHING IN THIS CELL\n",
    "\"\"\"\n",
    "from distutils.version import LooseVersion\n",
    "import warnings\n",
    "import tensorflow as tf\n",
    "\n",
    "# Check TensorFlow Version\n",
    "assert LooseVersion(tf.__version__) >= LooseVersion('1.0'), 'Please use TensorFlow version 1.0 or newer'\n",
    "print('TensorFlow Version: {}'.format(tf.__version__))\n",
    "\n",
    "# Check for a GPU\n",
    "if not tf.test.gpu_device_name():\n",
    "    warnings.warn('No GPU found. Please use a GPU to train your neural network.')\n",
    "else:\n",
    "    print('Default GPU Device: {}'.format(tf.test.gpu_device_name()))"
   ]
  },
  {
   "cell_type": "markdown",
   "metadata": {},
   "source": [
    "### Input\n",
    "Implement the `get_inputs()` function to create TF Placeholders for the Neural Network.  It should create the following placeholders:\n",
    "- Input text placeholder named \"input\" using the [TF Placeholder](https://www.tensorflow.org/api_docs/python/tf/placeholder) `name` parameter.\n",
    "- Targets placeholder\n",
    "- Learning Rate placeholder\n",
    "\n",
    "Return the placeholders in the following tuple `(Input, Targets, LearningRate)`"
   ]
  },
  {
   "cell_type": "code",
   "execution_count": 12,
   "metadata": {},
   "outputs": [
    {
     "name": "stdout",
     "output_type": "stream",
     "text": [
      "Tests Passed\n"
     ]
    }
   ],
   "source": [
    "def get_inputs():\n",
    "    \"\"\"\n",
    "    Create TF Placeholders for input, targets, and learning rate.\n",
    "    :return: Tuple (input, targets, learning rate)\n",
    "    \"\"\"\n",
    "    # TODO: Implement Function\n",
    "    input_ = tf.placeholder(tf.int32, [None, None], name='input')\n",
    "    targets_ = tf.placeholder(tf.int32, [None, None], name='targets')\n",
    "    learning_rate_ = tf.placeholder(tf.float32, name='learning_rate')\n",
    "    return input_, targets_, learning_rate_\n",
    "\n",
    "\n",
    "\"\"\"\n",
    "DON'T MODIFY ANYTHING IN THIS CELL THAT IS BELOW THIS LINE\n",
    "\"\"\"\n",
    "tests.test_get_inputs(get_inputs)"
   ]
  },
  {
   "cell_type": "markdown",
   "metadata": {},
   "source": [
    "# Build RNN Cell and Initialize\n",
    "Stack one or more [`BasicLSTMCells`](https://www.tensorflow.org/api_docs/python/tf/contrib/rnn/BasicLSTMCell) in a [`MultiRNNCell`](https://www.tensorflow.org/api_docs/python/tf/contrib/rnn/MultiRNNCell).\n",
    "- The Rnn size should be set using `rnn_size`\n",
    "- Initalize Cell State using the MultiRNNCell's [`zero_state()`](https://www.tensorflow.org/api_docs/python/tf/contrib/rnn/MultiRNNCell#zero_state) function\n",
    "    - Apply the name \"initial_state\" to the initial state using [`tf.identity()`](https://www.tensorflow.org/api_docs/python/tf/identity)\n",
    "\n",
    "Return the cell and initial state in the following tuple `(Cell, InitialState)`"
   ]
  },
  {
   "cell_type": "code",
   "execution_count": 4,
   "metadata": {},
   "outputs": [
    {
     "name": "stdout",
     "output_type": "stream",
     "text": [
      "Tests Passed\n"
     ]
    }
   ],
   "source": [
    "def get_init_cell(batch_size, rnn_size):\n",
    "    \"\"\"\n",
    "    Create an RNN Cell and initialize it.\n",
    "    :param batch_size: Size of batches\n",
    "    :param rnn_size: Size of RNNs\n",
    "    :return: Tuple (cell, initialize state)\n",
    "    \"\"\"\n",
    "    # TODO: Implement Function\n",
    "    def build_cell(rnn_size):\n",
    "        lstm = tf.contrib.rnn.BasicLSTMCell(rnn_size)\n",
    "        return lstm\n",
    "    \n",
    "    cell = tf.contrib.rnn.MultiRNNCell([build_cell(rnn_size) for _ in range(2)])\n",
    "    initial_state = cell.zero_state(batch_size, tf.float32)\n",
    "    initial_state = tf.identity(initial_state, name = 'initial_state')\n",
    "    return cell, initial_state\n",
    "\n",
    "\n",
    "\"\"\"\n",
    "DON'T MODIFY ANYTHING IN THIS CELL THAT IS BELOW THIS LINE\n",
    "\"\"\"\n",
    "tests.test_get_init_cell(get_init_cell)"
   ]
  },
  {
   "cell_type": "markdown",
   "metadata": {},
   "source": [
    "### Word Embedding\n",
    "Apply embedding to `input_data` using TensorFlow.  Return the embedded sequence."
   ]
  },
  {
   "cell_type": "code",
   "execution_count": 5,
   "metadata": {},
   "outputs": [
    {
     "name": "stdout",
     "output_type": "stream",
     "text": [
      "Tests Passed\n"
     ]
    }
   ],
   "source": [
    "def get_embed(input_data, vocab_size, embed_dim):\n",
    "    \"\"\"\n",
    "    Create embedding for <input_data>.\n",
    "    :param input_data: TF placeholder for text input.\n",
    "    :param vocab_size: Number of words in vocabulary.\n",
    "    :param embed_dim: Number of embedding dimensions\n",
    "    :return: Embedded input.\n",
    "    \"\"\"\n",
    "    # TODO: Implement Function\n",
    "    embedding = tf.Variable(tf.random_uniform((vocab_size, embed_dim), -1, 1))\n",
    "    embed = tf.nn.embedding_lookup(embedding, input_data)\n",
    "    return embed\n",
    "\n",
    "\n",
    "\"\"\"\n",
    "DON'T MODIFY ANYTHING IN THIS CELL THAT IS BELOW THIS LINE\n",
    "\"\"\"\n",
    "tests.test_get_embed(get_embed)"
   ]
  },
  {
   "cell_type": "markdown",
   "metadata": {},
   "source": [
    "### Build RNN\n",
    "You created a RNN Cell in the `get_init_cell()` function.  Time to use the cell to create a RNN.\n",
    "- Build the RNN using the [`tf.nn.dynamic_rnn()`](https://www.tensorflow.org/api_docs/python/tf/nn/dynamic_rnn)\n",
    " - Apply the name \"final_state\" to the final state using [`tf.identity()`](https://www.tensorflow.org/api_docs/python/tf/identity)\n",
    "\n",
    "Return the outputs and final_state state in the following tuple `(Outputs, FinalState)` "
   ]
  },
  {
   "cell_type": "code",
   "execution_count": 6,
   "metadata": {},
   "outputs": [
    {
     "name": "stdout",
     "output_type": "stream",
     "text": [
      "Tests Passed\n"
     ]
    }
   ],
   "source": [
    "def build_rnn(cell, inputs):\n",
    "    \"\"\"\n",
    "    Create a RNN using a RNN Cell\n",
    "    :param cell: RNN Cell\n",
    "    :param inputs: Input text data\n",
    "    :return: Tuple (Outputs, Final State)\n",
    "    \"\"\"\n",
    "    # TODO: Implement Function\n",
    "    outputs, final_state = tf.nn.dynamic_rnn(cell, inputs, dtype = tf.float32)\n",
    "    final_state = tf.identity(final_state, name = 'final_state')\n",
    "    return outputs, final_state\n",
    "\n",
    "\n",
    "\"\"\"\n",
    "DON'T MODIFY ANYTHING IN THIS CELL THAT IS BELOW THIS LINE\n",
    "\"\"\"\n",
    "tests.test_build_rnn(build_rnn)"
   ]
  },
  {
   "cell_type": "markdown",
   "metadata": {},
   "source": [
    "### Build the Neural Network\n",
    "Apply the functions you implemented above to:\n",
    "- Apply embedding to `input_data` using your `get_embed(input_data, vocab_size, embed_dim)` function.\n",
    "- Build RNN using `cell` and your `build_rnn(cell, inputs)` function.\n",
    "- Apply a fully connected layer with a linear activation and `vocab_size` as the number of outputs.\n",
    "\n",
    "Return the logits and final state in the following tuple (Logits, FinalState) "
   ]
  },
  {
   "cell_type": "code",
   "execution_count": 7,
   "metadata": {},
   "outputs": [
    {
     "name": "stdout",
     "output_type": "stream",
     "text": [
      "Tests Passed\n"
     ]
    }
   ],
   "source": [
    "def build_nn(cell, rnn_size, input_data, vocab_size, embed_dim):\n",
    "    \"\"\"\n",
    "    Build part of the neural network\n",
    "    :param cell: RNN cell\n",
    "    :param rnn_size: Size of rnns\n",
    "    :param input_data: Input data\n",
    "    :param vocab_size: Vocabulary size\n",
    "    :param embed_dim: Number of embedding dimensions\n",
    "    :return: Tuple (Logits, FinalState)\n",
    "    \"\"\"\n",
    "    # TODO: Implement Function\n",
    "    embed = get_embed(input_data, vocab_size, embed_dim)\n",
    "    outputs, final_state = build_rnn(cell, embed)\n",
    "    logits = tf.contrib.layers.fully_connected(outputs, vocab_size,\n",
    "                                               weights_initializer = tf.truncated_normal_initializer(stddev=0.01),\n",
    "                                               biases_initializer = tf.zeros_initializer(),\n",
    "                                               activation_fn = None)\n",
    "    return logits, final_state\n",
    "\n",
    "\n",
    "\"\"\"\n",
    "DON'T MODIFY ANYTHING IN THIS CELL THAT IS BELOW THIS LINE\n",
    "\"\"\"\n",
    "tests.test_build_nn(build_nn)"
   ]
  },
  {
   "cell_type": "markdown",
   "metadata": {},
   "source": [
    "### Batches\n",
    "Implement `get_batches` to create batches of input and targets using `int_text`.  The batches should be a Numpy array with the shape `(number of batches, 2, batch size, sequence length)`. Each batch contains two elements:\n",
    "- The first element is a single batch of **input** with the shape `[batch size, sequence length]`\n",
    "- The second element is a single batch of **targets** with the shape `[batch size, sequence length]`\n",
    "\n",
    "If you can't fill the last batch with enough data, drop the last batch.\n",
    "\n",
    "For exmple, `get_batches([1, 2, 3, 4, 5, 6, 7, 8, 9, 10, 11, 12, 13, 14, 15, 16, 17, 18, 19, 20], 3, 2)` would return a Numpy array of the following:\n",
    "```\n",
    "[\n",
    "  # First Batch\n",
    "  [\n",
    "    # Batch of Input\n",
    "    [[ 1  2], [ 7  8], [13 14]]\n",
    "    # Batch of targets\n",
    "    [[ 2  3], [ 8  9], [14 15]]\n",
    "  ]\n",
    "\n",
    "  # Second Batch\n",
    "  [\n",
    "    # Batch of Input\n",
    "    [[ 3  4], [ 9 10], [15 16]]\n",
    "    # Batch of targets\n",
    "    [[ 4  5], [10 11], [16 17]]\n",
    "  ]\n",
    "\n",
    "  # Third Batch\n",
    "  [\n",
    "    # Batch of Input\n",
    "    [[ 5  6], [11 12], [17 18]]\n",
    "    # Batch of targets\n",
    "    [[ 6  7], [12 13], [18  1]]\n",
    "  ]\n",
    "]\n",
    "```\n",
    "\n",
    "Notice that the last target value in the last batch is the first input value of the first batch. In this case, `1`. This is a common technique used when creating sequence batches, although it is rather unintuitive."
   ]
  },
  {
   "cell_type": "code",
   "execution_count": 8,
   "metadata": {},
   "outputs": [
    {
     "name": "stdout",
     "output_type": "stream",
     "text": [
      "Tests Passed\n"
     ]
    }
   ],
   "source": [
    "def get_batches(int_text, batch_size, seq_length):\n",
    "    \"\"\"\n",
    "    Return batches of input and target\n",
    "    :param int_text: Text with the words replaced by their ids\n",
    "    :param batch_size: The size of batch\n",
    "    :param seq_length: The length of sequence\n",
    "    :return: Batches as a Numpy array\n",
    "    \"\"\"\n",
    "    # TODO: Implement Function\n",
    "    chars_per_batch = batch_size * seq_length\n",
    "    num_batches = len(int_text) // chars_per_batch\n",
    "    int_text = int_text[:num_batches * chars_per_batch+1]\n",
    "    batches = np.zeros([num_batches, 2, batch_size, seq_length], dtype=np.int32)\n",
    "    c = 0\n",
    "    \n",
    "    for b in range(batch_size):\n",
    "        for n in range(num_batches):\n",
    "            #inputs\n",
    "            batches[n][0][b] = int_text[c:c+seq_length]\n",
    "            #targets\n",
    "            batches[n][1][b] = int_text[c+1:c+seq_length+1]\n",
    "            c += seq_length\n",
    "    \n",
    "    batches[-1][1][-1][-1] = batches[0][0][0][0]\n",
    "    return batches\n",
    "\n",
    "\n",
    "\"\"\"\n",
    "DON'T MODIFY ANYTHING IN THIS CELL THAT IS BELOW THIS LINE\n",
    "\"\"\"\n",
    "tests.test_get_batches(get_batches)"
   ]
  },
  {
   "cell_type": "markdown",
   "metadata": {},
   "source": [
    "## Neural Network Training\n",
    "### Hyperparameters\n",
    "Tune the following parameters:\n",
    "\n",
    "- Set `num_epochs` to the number of epochs.\n",
    "- Set `batch_size` to the batch size.\n",
    "- Set `rnn_size` to the size of the RNNs.\n",
    "- Set `embed_dim` to the size of the embedding.\n",
    "- Set `seq_length` to the length of sequence.\n",
    "- Set `learning_rate` to the learning rate.\n",
    "- Set `show_every_n_batches` to the number of batches the neural network should print progress."
   ]
  },
  {
   "cell_type": "code",
   "execution_count": 15,
   "metadata": {
    "collapsed": true
   },
   "outputs": [],
   "source": [
    "# Number of Epochs\n",
    "num_epochs = 100\n",
    "# Batch Size\n",
    "batch_size = 128\n",
    "# RNN Size\n",
    "rnn_size = 256\n",
    "# Embedding Dimension Size\n",
    "embed_dim = 300\n",
    "# Sequence Length\n",
    "seq_length = 15\n",
    "# Learning Rate\n",
    "learning_rate = 0.01\n",
    "# Show stats for every n number of batches\n",
    "show_every_n_batches = 10\n",
    "\n",
    "\"\"\"\n",
    "DON'T MODIFY ANYTHING IN THIS CELL THAT IS BELOW THIS LINE\n",
    "\"\"\"\n",
    "save_dir = './save'"
   ]
  },
  {
   "cell_type": "markdown",
   "metadata": {},
   "source": [
    "### Build the Graph\n",
    "Build the graph using the neural network you implemented."
   ]
  },
  {
   "cell_type": "code",
   "execution_count": 16,
   "metadata": {
    "collapsed": true
   },
   "outputs": [],
   "source": [
    "\"\"\"\n",
    "DON'T MODIFY ANYTHING IN THIS CELL\n",
    "\"\"\"\n",
    "from tensorflow.contrib import seq2seq\n",
    "\n",
    "train_graph = tf.Graph()\n",
    "with train_graph.as_default():\n",
    "    vocab_size = len(int_to_vocab)\n",
    "    input_text, targets, lr = get_inputs()\n",
    "    input_data_shape = tf.shape(input_text)\n",
    "    cell, initial_state = get_init_cell(input_data_shape[0], rnn_size)\n",
    "    logits, final_state = build_nn(cell, rnn_size, input_text, vocab_size, embed_dim)\n",
    "\n",
    "    # Probabilities for generating words\n",
    "    probs = tf.nn.softmax(logits, name='probs')\n",
    "\n",
    "    # Loss function\n",
    "    cost = seq2seq.sequence_loss(\n",
    "        logits,\n",
    "        targets,\n",
    "        tf.ones([input_data_shape[0], input_data_shape[1]]))\n",
    "\n",
    "    # Optimizer\n",
    "    optimizer = tf.train.AdamOptimizer(lr)\n",
    "\n",
    "    # Gradient Clipping\n",
    "    gradients = optimizer.compute_gradients(cost)\n",
    "    capped_gradients = [(tf.clip_by_value(grad, -1., 1.), var) for grad, var in gradients if grad is not None]\n",
    "    train_op = optimizer.apply_gradients(capped_gradients)"
   ]
  },
  {
   "cell_type": "markdown",
   "metadata": {},
   "source": [
    "## Train\n",
    "Train the neural network on the preprocessed data.  If you have a hard time getting a good loss, check the [forums](https://discussions.udacity.com/) to see if anyone is having the same problem."
   ]
  },
  {
   "cell_type": "code",
   "execution_count": 17,
   "metadata": {},
   "outputs": [
    {
     "name": "stdout",
     "output_type": "stream",
     "text": [
      "Epoch   0 Batch    0/35   train_loss = 8.822\n",
      "Epoch   0 Batch   10/35   train_loss = 6.977\n",
      "Epoch   0 Batch   20/35   train_loss = 7.086\n",
      "Epoch   0 Batch   30/35   train_loss = 6.741\n",
      "Epoch   1 Batch    5/35   train_loss = 6.191\n",
      "Epoch   1 Batch   15/35   train_loss = 6.195\n",
      "Epoch   1 Batch   25/35   train_loss = 6.044\n",
      "Epoch   2 Batch    0/35   train_loss = 6.031\n",
      "Epoch   2 Batch   10/35   train_loss = 5.975\n",
      "Epoch   2 Batch   20/35   train_loss = 5.721\n",
      "Epoch   2 Batch   30/35   train_loss = 5.355\n",
      "Epoch   3 Batch    5/35   train_loss = 5.194\n",
      "Epoch   3 Batch   15/35   train_loss = 5.154\n",
      "Epoch   3 Batch   25/35   train_loss = 4.922\n",
      "Epoch   4 Batch    0/35   train_loss = 4.907\n",
      "Epoch   4 Batch   10/35   train_loss = 4.936\n",
      "Epoch   4 Batch   20/35   train_loss = 4.822\n",
      "Epoch   4 Batch   30/35   train_loss = 4.663\n",
      "Epoch   5 Batch    5/35   train_loss = 4.550\n",
      "Epoch   5 Batch   15/35   train_loss = 4.618\n",
      "Epoch   5 Batch   25/35   train_loss = 4.403\n",
      "Epoch   6 Batch    0/35   train_loss = 4.495\n",
      "Epoch   6 Batch   10/35   train_loss = 4.480\n",
      "Epoch   6 Batch   20/35   train_loss = 4.381\n",
      "Epoch   6 Batch   30/35   train_loss = 4.313\n",
      "Epoch   7 Batch    5/35   train_loss = 4.186\n",
      "Epoch   7 Batch   15/35   train_loss = 4.243\n",
      "Epoch   7 Batch   25/35   train_loss = 4.066\n",
      "Epoch   8 Batch    0/35   train_loss = 4.133\n",
      "Epoch   8 Batch   10/35   train_loss = 4.085\n",
      "Epoch   8 Batch   20/35   train_loss = 4.008\n",
      "Epoch   8 Batch   30/35   train_loss = 3.951\n",
      "Epoch   9 Batch    5/35   train_loss = 3.852\n",
      "Epoch   9 Batch   15/35   train_loss = 3.848\n",
      "Epoch   9 Batch   25/35   train_loss = 3.726\n",
      "Epoch  10 Batch    0/35   train_loss = 3.768\n",
      "Epoch  10 Batch   10/35   train_loss = 3.724\n",
      "Epoch  10 Batch   20/35   train_loss = 3.634\n",
      "Epoch  10 Batch   30/35   train_loss = 3.602\n",
      "Epoch  11 Batch    5/35   train_loss = 3.511\n",
      "Epoch  11 Batch   15/35   train_loss = 3.490\n",
      "Epoch  11 Batch   25/35   train_loss = 3.385\n",
      "Epoch  12 Batch    0/35   train_loss = 3.439\n",
      "Epoch  12 Batch   10/35   train_loss = 3.359\n",
      "Epoch  12 Batch   20/35   train_loss = 3.240\n",
      "Epoch  12 Batch   30/35   train_loss = 3.241\n",
      "Epoch  13 Batch    5/35   train_loss = 3.195\n",
      "Epoch  13 Batch   15/35   train_loss = 3.109\n",
      "Epoch  13 Batch   25/35   train_loss = 3.051\n",
      "Epoch  14 Batch    0/35   train_loss = 3.124\n",
      "Epoch  14 Batch   10/35   train_loss = 3.027\n",
      "Epoch  14 Batch   20/35   train_loss = 2.883\n",
      "Epoch  14 Batch   30/35   train_loss = 2.890\n",
      "Epoch  15 Batch    5/35   train_loss = 2.900\n",
      "Epoch  15 Batch   15/35   train_loss = 2.823\n",
      "Epoch  15 Batch   25/35   train_loss = 2.782\n",
      "Epoch  16 Batch    0/35   train_loss = 2.831\n",
      "Epoch  16 Batch   10/35   train_loss = 2.771\n",
      "Epoch  16 Batch   20/35   train_loss = 2.597\n",
      "Epoch  16 Batch   30/35   train_loss = 2.577\n",
      "Epoch  17 Batch    5/35   train_loss = 2.616\n",
      "Epoch  17 Batch   15/35   train_loss = 2.570\n",
      "Epoch  17 Batch   25/35   train_loss = 2.518\n",
      "Epoch  18 Batch    0/35   train_loss = 2.565\n",
      "Epoch  18 Batch   10/35   train_loss = 2.542\n",
      "Epoch  18 Batch   20/35   train_loss = 2.381\n",
      "Epoch  18 Batch   30/35   train_loss = 2.363\n",
      "Epoch  19 Batch    5/35   train_loss = 2.363\n",
      "Epoch  19 Batch   15/35   train_loss = 2.358\n",
      "Epoch  19 Batch   25/35   train_loss = 2.309\n",
      "Epoch  20 Batch    0/35   train_loss = 2.293\n",
      "Epoch  20 Batch   10/35   train_loss = 2.279\n",
      "Epoch  20 Batch   20/35   train_loss = 2.149\n",
      "Epoch  20 Batch   30/35   train_loss = 2.103\n",
      "Epoch  21 Batch    5/35   train_loss = 2.058\n",
      "Epoch  21 Batch   15/35   train_loss = 2.099\n",
      "Epoch  21 Batch   25/35   train_loss = 2.090\n",
      "Epoch  22 Batch    0/35   train_loss = 2.055\n",
      "Epoch  22 Batch   10/35   train_loss = 1.991\n",
      "Epoch  22 Batch   20/35   train_loss = 1.894\n",
      "Epoch  22 Batch   30/35   train_loss = 1.883\n",
      "Epoch  23 Batch    5/35   train_loss = 1.833\n",
      "Epoch  23 Batch   15/35   train_loss = 1.858\n",
      "Epoch  23 Batch   25/35   train_loss = 1.827\n",
      "Epoch  24 Batch    0/35   train_loss = 1.812\n",
      "Epoch  24 Batch   10/35   train_loss = 1.779\n",
      "Epoch  24 Batch   20/35   train_loss = 1.651\n",
      "Epoch  24 Batch   30/35   train_loss = 1.662\n",
      "Epoch  25 Batch    5/35   train_loss = 1.601\n",
      "Epoch  25 Batch   15/35   train_loss = 1.646\n",
      "Epoch  25 Batch   25/35   train_loss = 1.650\n",
      "Epoch  26 Batch    0/35   train_loss = 1.584\n",
      "Epoch  26 Batch   10/35   train_loss = 1.525\n",
      "Epoch  26 Batch   20/35   train_loss = 1.458\n",
      "Epoch  26 Batch   30/35   train_loss = 1.469\n",
      "Epoch  27 Batch    5/35   train_loss = 1.422\n",
      "Epoch  27 Batch   15/35   train_loss = 1.457\n",
      "Epoch  27 Batch   25/35   train_loss = 1.446\n",
      "Epoch  28 Batch    0/35   train_loss = 1.408\n",
      "Epoch  28 Batch   10/35   train_loss = 1.381\n",
      "Epoch  28 Batch   20/35   train_loss = 1.306\n",
      "Epoch  28 Batch   30/35   train_loss = 1.312\n",
      "Epoch  29 Batch    5/35   train_loss = 1.248\n",
      "Epoch  29 Batch   15/35   train_loss = 1.304\n",
      "Epoch  29 Batch   25/35   train_loss = 1.341\n",
      "Epoch  30 Batch    0/35   train_loss = 1.297\n",
      "Epoch  30 Batch   10/35   train_loss = 1.245\n",
      "Epoch  30 Batch   20/35   train_loss = 1.160\n",
      "Epoch  30 Batch   30/35   train_loss = 1.221\n",
      "Epoch  31 Batch    5/35   train_loss = 1.111\n",
      "Epoch  31 Batch   15/35   train_loss = 1.191\n",
      "Epoch  31 Batch   25/35   train_loss = 1.149\n",
      "Epoch  32 Batch    0/35   train_loss = 1.186\n",
      "Epoch  32 Batch   10/35   train_loss = 1.095\n",
      "Epoch  32 Batch   20/35   train_loss = 1.024\n",
      "Epoch  32 Batch   30/35   train_loss = 1.088\n",
      "Epoch  33 Batch    5/35   train_loss = 0.995\n",
      "Epoch  33 Batch   15/35   train_loss = 1.051\n",
      "Epoch  33 Batch   25/35   train_loss = 1.035\n",
      "Epoch  34 Batch    0/35   train_loss = 1.063\n",
      "Epoch  34 Batch   10/35   train_loss = 0.972\n",
      "Epoch  34 Batch   20/35   train_loss = 0.951\n",
      "Epoch  34 Batch   30/35   train_loss = 0.988\n",
      "Epoch  35 Batch    5/35   train_loss = 0.908\n",
      "Epoch  35 Batch   15/35   train_loss = 0.952\n",
      "Epoch  35 Batch   25/35   train_loss = 0.962\n",
      "Epoch  36 Batch    0/35   train_loss = 0.958\n",
      "Epoch  36 Batch   10/35   train_loss = 0.889\n",
      "Epoch  36 Batch   20/35   train_loss = 0.827\n",
      "Epoch  36 Batch   30/35   train_loss = 0.908\n",
      "Epoch  37 Batch    5/35   train_loss = 0.812\n",
      "Epoch  37 Batch   15/35   train_loss = 0.877\n",
      "Epoch  37 Batch   25/35   train_loss = 0.861\n",
      "Epoch  38 Batch    0/35   train_loss = 0.858\n",
      "Epoch  38 Batch   10/35   train_loss = 0.807\n",
      "Epoch  38 Batch   20/35   train_loss = 0.743\n",
      "Epoch  38 Batch   30/35   train_loss = 0.793\n",
      "Epoch  39 Batch    5/35   train_loss = 0.736\n",
      "Epoch  39 Batch   15/35   train_loss = 0.781\n",
      "Epoch  39 Batch   25/35   train_loss = 0.782\n",
      "Epoch  40 Batch    0/35   train_loss = 0.794\n",
      "Epoch  40 Batch   10/35   train_loss = 0.737\n",
      "Epoch  40 Batch   20/35   train_loss = 0.685\n",
      "Epoch  40 Batch   30/35   train_loss = 0.731\n",
      "Epoch  41 Batch    5/35   train_loss = 0.666\n",
      "Epoch  41 Batch   15/35   train_loss = 0.722\n",
      "Epoch  41 Batch   25/35   train_loss = 0.756\n",
      "Epoch  42 Batch    0/35   train_loss = 0.731\n",
      "Epoch  42 Batch   10/35   train_loss = 0.708\n",
      "Epoch  42 Batch   20/35   train_loss = 0.652\n",
      "Epoch  42 Batch   30/35   train_loss = 0.720\n",
      "Epoch  43 Batch    5/35   train_loss = 0.637\n",
      "Epoch  43 Batch   15/35   train_loss = 0.684\n",
      "Epoch  43 Batch   25/35   train_loss = 0.687\n",
      "Epoch  44 Batch    0/35   train_loss = 0.702\n",
      "Epoch  44 Batch   10/35   train_loss = 0.682\n",
      "Epoch  44 Batch   20/35   train_loss = 0.606\n",
      "Epoch  44 Batch   30/35   train_loss = 0.651\n",
      "Epoch  45 Batch    5/35   train_loss = 0.602\n",
      "Epoch  45 Batch   15/35   train_loss = 0.652\n",
      "Epoch  45 Batch   25/35   train_loss = 0.635\n",
      "Epoch  46 Batch    0/35   train_loss = 0.665\n",
      "Epoch  46 Batch   10/35   train_loss = 0.626\n",
      "Epoch  46 Batch   20/35   train_loss = 0.558\n",
      "Epoch  46 Batch   30/35   train_loss = 0.616\n",
      "Epoch  47 Batch    5/35   train_loss = 0.553\n",
      "Epoch  47 Batch   15/35   train_loss = 0.591\n",
      "Epoch  47 Batch   25/35   train_loss = 0.584\n",
      "Epoch  48 Batch    0/35   train_loss = 0.599\n",
      "Epoch  48 Batch   10/35   train_loss = 0.576\n",
      "Epoch  48 Batch   20/35   train_loss = 0.525\n",
      "Epoch  48 Batch   30/35   train_loss = 0.555\n",
      "Epoch  49 Batch    5/35   train_loss = 0.520\n",
      "Epoch  49 Batch   15/35   train_loss = 0.559\n",
      "Epoch  49 Batch   25/35   train_loss = 0.550\n",
      "Epoch  50 Batch    0/35   train_loss = 0.580\n",
      "Epoch  50 Batch   10/35   train_loss = 0.518\n",
      "Epoch  50 Batch   20/35   train_loss = 0.482\n",
      "Epoch  50 Batch   30/35   train_loss = 0.514\n",
      "Epoch  51 Batch    5/35   train_loss = 0.494\n",
      "Epoch  51 Batch   15/35   train_loss = 0.502\n",
      "Epoch  51 Batch   25/35   train_loss = 0.476\n",
      "Epoch  52 Batch    0/35   train_loss = 0.521\n"
     ]
    },
    {
     "name": "stdout",
     "output_type": "stream",
     "text": [
      "Epoch  52 Batch   10/35   train_loss = 0.504\n",
      "Epoch  52 Batch   20/35   train_loss = 0.457\n",
      "Epoch  52 Batch   30/35   train_loss = 0.479\n",
      "Epoch  53 Batch    5/35   train_loss = 0.435\n",
      "Epoch  53 Batch   15/35   train_loss = 0.472\n",
      "Epoch  53 Batch   25/35   train_loss = 0.453\n",
      "Epoch  54 Batch    0/35   train_loss = 0.472\n",
      "Epoch  54 Batch   10/35   train_loss = 0.477\n",
      "Epoch  54 Batch   20/35   train_loss = 0.417\n",
      "Epoch  54 Batch   30/35   train_loss = 0.456\n",
      "Epoch  55 Batch    5/35   train_loss = 0.420\n",
      "Epoch  55 Batch   15/35   train_loss = 0.457\n",
      "Epoch  55 Batch   25/35   train_loss = 0.430\n",
      "Epoch  56 Batch    0/35   train_loss = 0.443\n",
      "Epoch  56 Batch   10/35   train_loss = 0.445\n",
      "Epoch  56 Batch   20/35   train_loss = 0.398\n",
      "Epoch  56 Batch   30/35   train_loss = 0.410\n",
      "Epoch  57 Batch    5/35   train_loss = 0.373\n",
      "Epoch  57 Batch   15/35   train_loss = 0.419\n",
      "Epoch  57 Batch   25/35   train_loss = 0.388\n",
      "Epoch  58 Batch    0/35   train_loss = 0.402\n",
      "Epoch  58 Batch   10/35   train_loss = 0.384\n",
      "Epoch  58 Batch   20/35   train_loss = 0.351\n",
      "Epoch  58 Batch   30/35   train_loss = 0.353\n",
      "Epoch  59 Batch    5/35   train_loss = 0.335\n",
      "Epoch  59 Batch   15/35   train_loss = 0.393\n",
      "Epoch  59 Batch   25/35   train_loss = 0.343\n",
      "Epoch  60 Batch    0/35   train_loss = 0.361\n",
      "Epoch  60 Batch   10/35   train_loss = 0.365\n",
      "Epoch  60 Batch   20/35   train_loss = 0.318\n",
      "Epoch  60 Batch   30/35   train_loss = 0.335\n",
      "Epoch  61 Batch    5/35   train_loss = 0.308\n",
      "Epoch  61 Batch   15/35   train_loss = 0.350\n",
      "Epoch  61 Batch   25/35   train_loss = 0.311\n",
      "Epoch  62 Batch    0/35   train_loss = 0.338\n",
      "Epoch  62 Batch   10/35   train_loss = 0.329\n",
      "Epoch  62 Batch   20/35   train_loss = 0.283\n",
      "Epoch  62 Batch   30/35   train_loss = 0.288\n",
      "Epoch  63 Batch    5/35   train_loss = 0.280\n",
      "Epoch  63 Batch   15/35   train_loss = 0.331\n",
      "Epoch  63 Batch   25/35   train_loss = 0.288\n",
      "Epoch  64 Batch    0/35   train_loss = 0.296\n",
      "Epoch  64 Batch   10/35   train_loss = 0.298\n",
      "Epoch  64 Batch   20/35   train_loss = 0.262\n",
      "Epoch  64 Batch   30/35   train_loss = 0.262\n",
      "Epoch  65 Batch    5/35   train_loss = 0.262\n",
      "Epoch  65 Batch   15/35   train_loss = 0.295\n",
      "Epoch  65 Batch   25/35   train_loss = 0.276\n",
      "Epoch  66 Batch    0/35   train_loss = 0.266\n",
      "Epoch  66 Batch   10/35   train_loss = 0.283\n",
      "Epoch  66 Batch   20/35   train_loss = 0.242\n",
      "Epoch  66 Batch   30/35   train_loss = 0.256\n",
      "Epoch  67 Batch    5/35   train_loss = 0.240\n",
      "Epoch  67 Batch   15/35   train_loss = 0.280\n",
      "Epoch  67 Batch   25/35   train_loss = 0.248\n",
      "Epoch  68 Batch    0/35   train_loss = 0.256\n",
      "Epoch  68 Batch   10/35   train_loss = 0.262\n",
      "Epoch  68 Batch   20/35   train_loss = 0.232\n",
      "Epoch  68 Batch   30/35   train_loss = 0.233\n",
      "Epoch  69 Batch    5/35   train_loss = 0.232\n",
      "Epoch  69 Batch   15/35   train_loss = 0.268\n",
      "Epoch  69 Batch   25/35   train_loss = 0.242\n",
      "Epoch  70 Batch    0/35   train_loss = 0.241\n",
      "Epoch  70 Batch   10/35   train_loss = 0.252\n",
      "Epoch  70 Batch   20/35   train_loss = 0.226\n",
      "Epoch  70 Batch   30/35   train_loss = 0.224\n",
      "Epoch  71 Batch    5/35   train_loss = 0.229\n",
      "Epoch  71 Batch   15/35   train_loss = 0.261\n",
      "Epoch  71 Batch   25/35   train_loss = 0.240\n",
      "Epoch  72 Batch    0/35   train_loss = 0.233\n",
      "Epoch  72 Batch   10/35   train_loss = 0.249\n",
      "Epoch  72 Batch   20/35   train_loss = 0.216\n",
      "Epoch  72 Batch   30/35   train_loss = 0.222\n",
      "Epoch  73 Batch    5/35   train_loss = 0.223\n",
      "Epoch  73 Batch   15/35   train_loss = 0.260\n",
      "Epoch  73 Batch   25/35   train_loss = 0.235\n",
      "Epoch  74 Batch    0/35   train_loss = 0.224\n",
      "Epoch  74 Batch   10/35   train_loss = 0.244\n",
      "Epoch  74 Batch   20/35   train_loss = 0.215\n",
      "Epoch  74 Batch   30/35   train_loss = 0.218\n",
      "Epoch  75 Batch    5/35   train_loss = 0.219\n",
      "Epoch  75 Batch   15/35   train_loss = 0.255\n",
      "Epoch  75 Batch   25/35   train_loss = 0.233\n",
      "Epoch  76 Batch    0/35   train_loss = 0.221\n",
      "Epoch  76 Batch   10/35   train_loss = 0.240\n",
      "Epoch  76 Batch   20/35   train_loss = 0.213\n",
      "Epoch  76 Batch   30/35   train_loss = 0.213\n",
      "Epoch  77 Batch    5/35   train_loss = 0.217\n",
      "Epoch  77 Batch   15/35   train_loss = 0.253\n",
      "Epoch  77 Batch   25/35   train_loss = 0.230\n",
      "Epoch  78 Batch    0/35   train_loss = 0.218\n",
      "Epoch  78 Batch   10/35   train_loss = 0.238\n",
      "Epoch  78 Batch   20/35   train_loss = 0.211\n",
      "Epoch  78 Batch   30/35   train_loss = 0.211\n",
      "Epoch  79 Batch    5/35   train_loss = 0.215\n",
      "Epoch  79 Batch   15/35   train_loss = 0.251\n",
      "Epoch  79 Batch   25/35   train_loss = 0.229\n",
      "Epoch  80 Batch    0/35   train_loss = 0.216\n",
      "Epoch  80 Batch   10/35   train_loss = 0.237\n",
      "Epoch  80 Batch   20/35   train_loss = 0.210\n",
      "Epoch  80 Batch   30/35   train_loss = 0.210\n",
      "Epoch  81 Batch    5/35   train_loss = 0.213\n",
      "Epoch  81 Batch   15/35   train_loss = 0.250\n",
      "Epoch  81 Batch   25/35   train_loss = 0.228\n",
      "Epoch  82 Batch    0/35   train_loss = 0.215\n",
      "Epoch  82 Batch   10/35   train_loss = 0.235\n",
      "Epoch  82 Batch   20/35   train_loss = 0.209\n",
      "Epoch  82 Batch   30/35   train_loss = 0.209\n",
      "Epoch  83 Batch    5/35   train_loss = 0.212\n",
      "Epoch  83 Batch   15/35   train_loss = 0.249\n",
      "Epoch  83 Batch   25/35   train_loss = 0.227\n",
      "Epoch  84 Batch    0/35   train_loss = 0.214\n",
      "Epoch  84 Batch   10/35   train_loss = 0.234\n",
      "Epoch  84 Batch   20/35   train_loss = 0.208\n",
      "Epoch  84 Batch   30/35   train_loss = 0.209\n",
      "Epoch  85 Batch    5/35   train_loss = 0.212\n",
      "Epoch  85 Batch   15/35   train_loss = 0.248\n",
      "Epoch  85 Batch   25/35   train_loss = 0.227\n",
      "Epoch  86 Batch    0/35   train_loss = 0.213\n",
      "Epoch  86 Batch   10/35   train_loss = 0.234\n",
      "Epoch  86 Batch   20/35   train_loss = 0.208\n",
      "Epoch  86 Batch   30/35   train_loss = 0.208\n",
      "Epoch  87 Batch    5/35   train_loss = 0.211\n",
      "Epoch  87 Batch   15/35   train_loss = 0.247\n",
      "Epoch  87 Batch   25/35   train_loss = 0.226\n",
      "Epoch  88 Batch    0/35   train_loss = 0.213\n",
      "Epoch  88 Batch   10/35   train_loss = 0.233\n",
      "Epoch  88 Batch   20/35   train_loss = 0.207\n",
      "Epoch  88 Batch   30/35   train_loss = 0.208\n",
      "Epoch  89 Batch    5/35   train_loss = 0.211\n",
      "Epoch  89 Batch   15/35   train_loss = 0.247\n",
      "Epoch  89 Batch   25/35   train_loss = 0.226\n",
      "Epoch  90 Batch    0/35   train_loss = 0.212\n",
      "Epoch  90 Batch   10/35   train_loss = 0.233\n",
      "Epoch  90 Batch   20/35   train_loss = 0.207\n",
      "Epoch  90 Batch   30/35   train_loss = 0.208\n",
      "Epoch  91 Batch    5/35   train_loss = 0.210\n",
      "Epoch  91 Batch   15/35   train_loss = 0.246\n",
      "Epoch  91 Batch   25/35   train_loss = 0.225\n",
      "Epoch  92 Batch    0/35   train_loss = 0.212\n",
      "Epoch  92 Batch   10/35   train_loss = 0.232\n",
      "Epoch  92 Batch   20/35   train_loss = 0.207\n",
      "Epoch  92 Batch   30/35   train_loss = 0.207\n",
      "Epoch  93 Batch    5/35   train_loss = 0.210\n",
      "Epoch  93 Batch   15/35   train_loss = 0.246\n",
      "Epoch  93 Batch   25/35   train_loss = 0.225\n",
      "Epoch  94 Batch    0/35   train_loss = 0.211\n",
      "Epoch  94 Batch   10/35   train_loss = 0.232\n",
      "Epoch  94 Batch   20/35   train_loss = 0.206\n",
      "Epoch  94 Batch   30/35   train_loss = 0.207\n",
      "Epoch  95 Batch    5/35   train_loss = 0.210\n",
      "Epoch  95 Batch   15/35   train_loss = 0.246\n",
      "Epoch  95 Batch   25/35   train_loss = 0.225\n",
      "Epoch  96 Batch    0/35   train_loss = 0.211\n",
      "Epoch  96 Batch   10/35   train_loss = 0.232\n",
      "Epoch  96 Batch   20/35   train_loss = 0.206\n",
      "Epoch  96 Batch   30/35   train_loss = 0.207\n",
      "Epoch  97 Batch    5/35   train_loss = 0.209\n",
      "Epoch  97 Batch   15/35   train_loss = 0.245\n",
      "Epoch  97 Batch   25/35   train_loss = 0.225\n",
      "Epoch  98 Batch    0/35   train_loss = 0.210\n",
      "Epoch  98 Batch   10/35   train_loss = 0.231\n",
      "Epoch  98 Batch   20/35   train_loss = 0.206\n",
      "Epoch  98 Batch   30/35   train_loss = 0.207\n",
      "Epoch  99 Batch    5/35   train_loss = 0.209\n",
      "Epoch  99 Batch   15/35   train_loss = 0.245\n",
      "Epoch  99 Batch   25/35   train_loss = 0.224\n",
      "Model Trained and Saved\n"
     ]
    }
   ],
   "source": [
    "\"\"\"\n",
    "DON'T MODIFY ANYTHING IN THIS CELL\n",
    "\"\"\"\n",
    "batches = get_batches(int_text, batch_size, seq_length)\n",
    "\n",
    "with tf.Session(graph=train_graph) as sess:\n",
    "    sess.run(tf.global_variables_initializer())\n",
    "\n",
    "    for epoch_i in range(num_epochs):\n",
    "        state = sess.run(initial_state, {input_text: batches[0][0]})\n",
    "\n",
    "        for batch_i, (x, y) in enumerate(batches):\n",
    "            feed = {\n",
    "                input_text: x,\n",
    "                targets: y,\n",
    "                initial_state: state,\n",
    "                lr: learning_rate}\n",
    "            train_loss, state, _ = sess.run([cost, final_state, train_op], feed)\n",
    "\n",
    "            # Show every <show_every_n_batches> batches\n",
    "            if (epoch_i * len(batches) + batch_i) % show_every_n_batches == 0:\n",
    "                print('Epoch {:>3} Batch {:>4}/{}   train_loss = {:.3f}'.format(\n",
    "                    epoch_i,\n",
    "                    batch_i,\n",
    "                    len(batches),\n",
    "                    train_loss))\n",
    "\n",
    "    # Save Model\n",
    "    saver = tf.train.Saver()\n",
    "    saver.save(sess, save_dir)\n",
    "    print('Model Trained and Saved')"
   ]
  },
  {
   "cell_type": "markdown",
   "metadata": {},
   "source": [
    "## Save Parameters\n",
    "Save `seq_length` and `save_dir` for generating a new TV script."
   ]
  },
  {
   "cell_type": "code",
   "execution_count": 18,
   "metadata": {
    "collapsed": true
   },
   "outputs": [],
   "source": [
    "\"\"\"\n",
    "DON'T MODIFY ANYTHING IN THIS CELL\n",
    "\"\"\"\n",
    "# Save parameters for checkpoint\n",
    "helper.save_params((seq_length, save_dir))"
   ]
  },
  {
   "cell_type": "markdown",
   "metadata": {},
   "source": [
    "# Checkpoint"
   ]
  },
  {
   "cell_type": "code",
   "execution_count": 1,
   "metadata": {
    "collapsed": true
   },
   "outputs": [],
   "source": [
    "\"\"\"\n",
    "DON'T MODIFY ANYTHING IN THIS CELL\n",
    "\"\"\"\n",
    "import tensorflow as tf\n",
    "import numpy as np\n",
    "import helper\n",
    "import problem_unittests as tests\n",
    "\n",
    "_, vocab_to_int, int_to_vocab, token_dict = helper.load_preprocess()\n",
    "seq_length, load_dir = helper.load_params()"
   ]
  },
  {
   "cell_type": "markdown",
   "metadata": {},
   "source": [
    "## Implement Generate Functions\n",
    "### Get Tensors\n",
    "Get tensors from `loaded_graph` using the function [`get_tensor_by_name()`](https://www.tensorflow.org/api_docs/python/tf/Graph#get_tensor_by_name).  Get the tensors using the following names:\n",
    "- \"input:0\"\n",
    "- \"initial_state:0\"\n",
    "- \"final_state:0\"\n",
    "- \"probs:0\"\n",
    "\n",
    "Return the tensors in the following tuple `(InputTensor, InitialStateTensor, FinalStateTensor, ProbsTensor)` "
   ]
  },
  {
   "cell_type": "code",
   "execution_count": 2,
   "metadata": {},
   "outputs": [
    {
     "name": "stdout",
     "output_type": "stream",
     "text": [
      "Tests Passed\n"
     ]
    }
   ],
   "source": [
    "def get_tensors(loaded_graph):\n",
    "    \"\"\"\n",
    "    Get input, initial state, final state, and probabilities tensor from <loaded_graph>\n",
    "    :param loaded_graph: TensorFlow graph loaded from file\n",
    "    :return: Tuple (InputTensor, InitialStateTensor, FinalStateTensor, ProbsTensor)\n",
    "    \"\"\"\n",
    "    # TODO: Implement Function\n",
    "    input_tensor = loaded_graph.get_tensor_by_name('input:0')\n",
    "    initial_tensor = loaded_graph.get_tensor_by_name('initial_state:0')\n",
    "    final_tensor = loaded_graph.get_tensor_by_name('final_state:0')\n",
    "    probs_tensor = loaded_graph.get_tensor_by_name('probs:0')\n",
    "    return input_tensor, initial_tensor, final_tensor, probs_tensor\n",
    "\n",
    "\n",
    "\"\"\"\n",
    "DON'T MODIFY ANYTHING IN THIS CELL THAT IS BELOW THIS LINE\n",
    "\"\"\"\n",
    "tests.test_get_tensors(get_tensors)"
   ]
  },
  {
   "cell_type": "markdown",
   "metadata": {},
   "source": [
    "### Choose Word\n",
    "Implement the `pick_word()` function to select the next word using `probabilities`."
   ]
  },
  {
   "cell_type": "code",
   "execution_count": 3,
   "metadata": {},
   "outputs": [
    {
     "name": "stdout",
     "output_type": "stream",
     "text": [
      "Tests Passed\n"
     ]
    }
   ],
   "source": [
    "def pick_word(probabilities, int_to_vocab):\n",
    "    \"\"\"\n",
    "    Pick the next word in the generated text\n",
    "    :param probabilities: Probabilites of the next word\n",
    "    :param int_to_vocab: Dictionary of word ids as the keys and words as the values\n",
    "    :return: String of the predicted word\n",
    "    \"\"\"\n",
    "    # TODO: Implement Function\n",
    "    idx = np.random.choice(len(int_to_vocab), None, False, probabilities)\n",
    "    return int_to_vocab[idx]\n",
    "\n",
    "\n",
    "\"\"\"\n",
    "DON'T MODIFY ANYTHING IN THIS CELL THAT IS BELOW THIS LINE\n",
    "\"\"\"\n",
    "tests.test_pick_word(pick_word)"
   ]
  },
  {
   "cell_type": "markdown",
   "metadata": {},
   "source": [
    "## Generate TV Script\n",
    "This will generate the TV script for you.  Set `gen_length` to the length of TV script you want to generate."
   ]
  },
  {
   "cell_type": "code",
   "execution_count": 4,
   "metadata": {},
   "outputs": [
    {
     "name": "stdout",
     "output_type": "stream",
     "text": [
      "INFO:tensorflow:Restoring parameters from ./save\n",
      "moe_szyslak: ahh! how did i lose my passion for the job? when i was just using it as a coaster.\n",
      "homer_simpson:(small frustrated noise) why, i don't want to go!\n",
      "\n",
      "\n",
      "moe_szyslak:(clears throat) mouse, i knew you went to us, back some loser.\n",
      "moe_szyslak: well, i can really learn it to the brave store and the house.\n",
      "barney_gumble:(quietly to self) oh, ain't right, and i did.\n",
      "moe_szyslak: um...(to self) i'm happy here to save five...\n",
      "\n",
      "\n",
      "moe_szyslak: what is that really? / etc.\n",
      "homer_simpson:(drunk, then warmly) hey, would you hand me my keys?\n",
      "homer_simpson:(grandiose) this round's on me, old lady strap.\n",
      "moe_szyslak:(into phone) ah, yeah, yeah, hello, president right! / bart!\n",
      "homer_simpson: woo hoo!\n",
      "moe_szyslak: whoa, whoa, hey, you sure help your mind, what happened? anything an idea,\n",
      "\n"
     ]
    }
   ],
   "source": [
    "gen_length = 200\n",
    "# homer_simpson, moe_szyslak, or Barney_Gumble\n",
    "prime_word = 'moe_szyslak'\n",
    "\n",
    "\"\"\"\n",
    "DON'T MODIFY ANYTHING IN THIS CELL THAT IS BELOW THIS LINE\n",
    "\"\"\"\n",
    "loaded_graph = tf.Graph()\n",
    "with tf.Session(graph=loaded_graph) as sess:\n",
    "    # Load saved model\n",
    "    loader = tf.train.import_meta_graph(load_dir + '.meta')\n",
    "    loader.restore(sess, load_dir)\n",
    "\n",
    "    # Get Tensors from loaded model\n",
    "    input_text, initial_state, final_state, probs = get_tensors(loaded_graph)\n",
    "\n",
    "    # Sentences generation setup\n",
    "    gen_sentences = [prime_word + ':']\n",
    "    prev_state = sess.run(initial_state, {input_text: np.array([[1]])})\n",
    "\n",
    "    # Generate sentences\n",
    "    for n in range(gen_length):\n",
    "        # Dynamic Input\n",
    "        dyn_input = [[vocab_to_int[word] for word in gen_sentences[-seq_length:]]]\n",
    "        dyn_seq_length = len(dyn_input[0])\n",
    "\n",
    "        # Get Prediction\n",
    "        probabilities, prev_state = sess.run(\n",
    "            [probs, final_state],\n",
    "            {input_text: dyn_input, initial_state: prev_state})\n",
    "        \n",
    "        pred_word = pick_word(probabilities[0][dyn_seq_length-1], int_to_vocab)\n",
    "\n",
    "        gen_sentences.append(pred_word)\n",
    "    \n",
    "    # Remove tokens\n",
    "    tv_script = ' '.join(gen_sentences)\n",
    "    for key, token in token_dict.items():\n",
    "        ending = ' ' if key in ['\\n', '(', '\"'] else ''\n",
    "        tv_script = tv_script.replace(' ' + token.lower(), key)\n",
    "    tv_script = tv_script.replace('\\n ', '\\n')\n",
    "    tv_script = tv_script.replace('( ', '(')\n",
    "        \n",
    "    print(tv_script)"
   ]
  },
  {
   "cell_type": "markdown",
   "metadata": {},
   "source": [
    "# The TV Script is Nonsensical\n",
    "It's ok if the TV script doesn't make any sense.  We trained on less than a megabyte of text.  In order to get good results, you'll have to use a smaller vocabulary or get more data.  Luckly there's more data!  As we mentioned in the begging of this project, this is a subset of [another dataset](https://www.kaggle.com/wcukierski/the-simpsons-by-the-data).  We didn't have you train on all the data, because that would take too long.  However, you are free to train your neural network on all the data.  After you complete the project, of course.\n",
    "# Submitting This Project\n",
    "When submitting this project, make sure to run all the cells before saving the notebook. Save the notebook file as \"dlnd_tv_script_generation.ipynb\" and save it as a HTML file under \"File\" -> \"Download as\". Include the \"helper.py\" and \"problem_unittests.py\" files in your submission."
   ]
  }
 ],
 "metadata": {
  "kernelspec": {
   "display_name": "Python 3",
   "language": "python",
   "name": "python3"
  },
  "language_info": {
   "codemirror_mode": {
    "name": "ipython",
    "version": 3
   },
   "file_extension": ".py",
   "mimetype": "text/x-python",
   "name": "python",
   "nbconvert_exporter": "python",
   "pygments_lexer": "ipython3",
   "version": "3.6.2"
  },
  "widgets": {
   "state": {},
   "version": "1.1.2"
  }
 },
 "nbformat": 4,
 "nbformat_minor": 1
}
